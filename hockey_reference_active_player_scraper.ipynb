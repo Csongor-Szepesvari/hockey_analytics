{
 "cells": [
  {
   "cell_type": "code",
   "execution_count": 1,
   "metadata": {},
   "outputs": [],
   "source": [
    "from bs4 import BeautifulSoup\n",
    "import requests"
   ]
  },
  {
   "cell_type": "code",
   "execution_count": 2,
   "metadata": {},
   "outputs": [],
   "source": [
    "url = \"https://www.hockey-reference.com\"\n",
    "\n",
    "players = \"/players/\"\n",
    "\n",
    "alphabet = \"abcdefghijklmnopqrstuvwxyz\""
   ]
  },
  {
   "cell_type": "code",
   "execution_count": 3,
   "metadata": {},
   "outputs": [],
   "source": [
    "def get_page(url):\n",
    "    return requests.get(url)"
   ]
  },
  {
   "cell_type": "code",
   "execution_count": 4,
   "metadata": {},
   "outputs": [],
   "source": [
    "def make_soup(page):\n",
    "    return BeautifulSoup(page.text, 'html')"
   ]
  },
  {
   "cell_type": "code",
   "execution_count": 16,
   "metadata": {},
   "outputs": [
    {
     "name": "stdout",
     "output_type": "stream",
     "text": [
      "https://www.hockey-reference.com/players/a\n",
      "https://www.hockey-reference.com/players/b\n",
      "https://www.hockey-reference.com/players/c\n",
      "https://www.hockey-reference.com/players/d\n",
      "https://www.hockey-reference.com/players/e\n",
      "https://www.hockey-reference.com/players/f\n",
      "https://www.hockey-reference.com/players/g\n",
      "https://www.hockey-reference.com/players/h\n",
      "https://www.hockey-reference.com/players/i\n",
      "https://www.hockey-reference.com/players/j\n",
      "https://www.hockey-reference.com/players/k\n",
      "https://www.hockey-reference.com/players/l\n",
      "https://www.hockey-reference.com/players/m\n",
      "https://www.hockey-reference.com/players/n\n",
      "https://www.hockey-reference.com/players/o\n",
      "https://www.hockey-reference.com/players/p\n",
      "https://www.hockey-reference.com/players/q\n",
      "https://www.hockey-reference.com/players/r\n",
      "https://www.hockey-reference.com/players/s\n",
      "https://www.hockey-reference.com/players/t\n",
      "https://www.hockey-reference.com/players/u\n",
      "https://www.hockey-reference.com/players/v\n",
      "https://www.hockey-reference.com/players/w\n",
      "https://www.hockey-reference.com/players/x\n",
      "https://www.hockey-reference.com/players/y\n",
      "https://www.hockey-reference.com/players/z\n"
     ]
    }
   ],
   "source": [
    "def find_active_nhlers(soup):\n",
    "    nhlers = soup.find_all('p', class_ = \"nhl\")\n",
    "    active_nhlers = []\n",
    "    for nhler in nhlers:\n",
    "        result = nhler.find('strong')\n",
    "        if result:\n",
    "            active_nhlers.append(result)\n",
    "    return active_nhlers\n",
    "    #return nhlers.find_all('strong')\n",
    "\n",
    "active_players = []\n",
    "for letter in alphabet:\n",
    "    print(url+players+letter)\n",
    "    active_players += find_active_nhlers(make_soup(get_page(url+players+letter)))\n",
    "#print(active_players)"
   ]
  },
  {
   "cell_type": "code",
   "execution_count": 17,
   "metadata": {},
   "outputs": [
    {
     "name": "stdout",
     "output_type": "stream",
     "text": [
      "['Noel Acciari', 'Calen Addison', 'Egor  Afanasyev', 'Sebastian Aho', 'Sebastian Aho', 'Nikita Alexandrov', 'Alexander Alexeyev', 'Jake Allen', 'Michael Amadio', 'Nils Ã\\x85man', 'Frederik Andersen', 'Joey Anderson', 'Josh Anderson', 'Michael Anderson', 'Jaret Anderson-Dolan', 'Rasmus Andersson', 'Emil Andrae', 'Tyler Angle', 'Justus Annunen', 'Kenneth Appleby', 'Mason Appleton', 'Joel Armia', 'Viktor Arvidsson', 'Yaroslav Askarov', 'Zach Aston-Reese', 'Andreas Athanasiou', 'Cam Atkinson', 'Ronald Attard', 'Nicolas AubÃ©-Kubel', 'Mikael Backlund', 'Nicklas BÃ¤ckstrÃ¶m', 'Kevin Bahl', 'Justin Bailey', 'Arshdeep Bains', 'Uvis Balinskis', 'Alexander Barabanov', 'Ivan Barbashev', 'Aleksander Barkov', 'Alex BarrÃ©-Boulet', 'Tyson Barrie', 'Justin Barron', 'Morgan Barron', 'Mathew Barzal', 'Nathan Bastian', 'Drake Batherson', 'Jake Bean', 'Ethan Bear', 'Anthony Beauvillier', 'Adam Beckman', 'Connor Bedard', 'John Beecher', 'Pierre-Ã\\x89douard Bellemare', 'Louis Belpedio', 'Emil BemstrÃ¶m', 'Matthew Beniers', 'Jamie Benn', 'Sam Bennett', 'Matt Benning', 'Simon Benoit', 'Zach Benson', 'Jonatan Berggren', 'Jacob Bernard-Docker', 'Tyler Bertuzzi', 'Jordan Binnington', 'Brandon Biro', 'Oliver Bjorkstrand', 'Tobias BjÃ¶rnfot', 'Nick Bjugstad', 'Colin Blackwell', 'Mackenzie Blackwood', 'Sammy Blais', 'Jackson Blake', 'Nick Blankenburg', 'Anton Blidh', 'Teddy Blueger', 'Sergei Bobrovsky', 'Brock Boeser', 'Zach Bogosian', 'Samuel Bolduc', 'Zachary Bolduc', 'Matt Boldy', 'Nick Bonino', 'Adam Boqvist', 'Jesper Boqvist', 'Thomas Bordeleau', 'William Borgen', 'Robert Bortuzzo', 'Evan Bouchard', 'Mavrik Bourque', 'Shane Bowers', 'Travis Boyd', 'Erik BrÃ¤nnstrÃ¶m', 'Jesper Bratt', 'Justin Brazeau', 'Gavin Brindley', 'Bobby Brink', 'Brendan Brisson', 'Philip Broberg', 'T.J. Brodie', 'Jonas Brodin', 'Jonny Brodzinski', 'Laurent Brossoit', 'Connor Brown', 'Josh Brown', 'Patrick Brown', 'Jacob Bryson', 'Pavel Buchnevich', 'Michael Bunting', 'AndrÃ© Burakovsky', 'Callahan Burke', 'Brent Burns', 'Kyle Burroughs', 'Cameron Butler', 'Quinton Byfield', 'Bowen Byram', 'Jack Campbell', 'Michael Carcone', 'Declan Carlile', 'Brandon Carlo', 'John Carlson', 'Leo Carlsson', 'Ryan Carpenter', 'Sam Carrick', 'Alexandre Carrier', 'William Carrier', 'Jeff Carter', 'Noah Cates', 'Cole Caufield', 'Cody Ceci', 'Erik Ä\\x8cernÃ¡k', 'Thomas Chabot', 'Mitchell Chaffee', 'Rourke Chartier', 'Jalen Chatfield', 'Ben Chiarot', 'Nikita Chibrikov', 'Yegor Chinakhov', 'Declan Chisholm', 'Jake Christiansen', 'Magnus Chrona', 'Jakob Chychrun', 'Filip Chytil', 'Anthony Cirelli', 'Casey Cizikas', 'Kale Clague', 'Brandt Clarke', 'Graeme Clarke', 'Connor Clifton', 'Cal Clutterbuck', 'Dylan Coghlan', 'Andrew Cogliano', 'Sam Colangelo', 'Ian Cole', 'Blake Coleman', 'Ross Colton', 'J.T. Compher', 'Eric Comrie', 'Max Comtois', 'Lucas Condotta', 'Kyle Connor', 'Devin Cooley', 'Logan Cooley', 'Pheonix Copley', 'Andrew Copp', 'Lukas Cormier', 'Matthew Coronato', 'Paul Cotter', 'Nick Cousins', 'Logan Couture', 'Sean Couturier', 'Charlie Coyle', 'Dylan Cozens', 'Louis Crevier', 'Angus Crookshank', 'Sidney Crosby', 'Cameron Crotty', 'Lawson Crouse', 'Maxwell Crozier', 'William Cuylle', 'Austin Czarnik', 'Joey Daccord', 'Kirby Dach', 'Evgenii Dadonov', 'Rasmus Dahlin', 'Phillip Danault', 'Justin Danforth', 'Nico Daws', 'Calvin de Haan', 'Zach Dean', 'Tony DeAngelo', 'Alex DeBrincat', 'Jake DeBrusk', 'Luca Del Bel Belluz', 'Marc Del Gaizo', 'Ethan Del Mastro', 'Ty Dellandrea', 'Dylan DeMelo', 'Thatcher Demko', 'Grigori Denisenko', 'Travis Dermott', 'Vincent Desharnais', 'Nick DeSimone', 'Nicolas Deslauriers', 'Casey DeSmith', 'Connor Dewar', 'Phillip Di Giuseppe', 'Jason Dickinson', 'Brenden Dillon', 'Josh Doan', 'Noah Dobson', 'Max Domi', 'Louis Domingue', 'Ryan Donato', 'Pavel Dorofeyev', 'LukÃ¡Å¡ DostÃ¡l', 'Drew Doughty', 'Nic Dowd', 'Justin Dowling', 'Leon Draisaitl', 'Chris Driedger', 'Jonathan Drouin', 'Jack Drury', 'Jamie Drysdale', 'Dillon DubÃ©', 'Pierrick Dube', 'Pierre-Luc Dubois', 'Matt Duchene', 'Anthony Duclair', 'Walker Duehr', 'Brandon Duhaime', 'Mathew Dumba', 'Brian Dumoulin', 'Vince Dunn', 'Sean Durzi', 'Christian Dvorak', 'Jordan Eberle', 'Joel Edmundson', 'Adam Edstrom', 'Simon Edvinsson', 'Nikolaj Ehlers', 'Jack Eichel', 'Aaron Ekblad', 'Mattias Ekholm', 'William Eklund', 'Oliver Ekman-Larsson', 'Lars Eller', 'Ty Emberson', 'Andreas Englund', 'Pierre Engvall', 'MacKenzie Entwistle', 'Joel Eriksson Ek', 'Adam Erne', 'Samuel Ersson', 'Luke Evangelista', 'Jake Evans', 'Ryker Evans', 'Michael Eyssimont', 'Robby Fabbri', 'Dante Fabbro', 'Brock Faber', 'Samuel Fagemo', 'Radek Faksa', 'Adam Fantilli', 'Joel Farabee', 'Hudson Fasching', 'Jesper Fast', 'Justin Faulk', 'Ivan Fedotov', 'Martin FehÃ©rvÃ¡ry', 'Mario Ferraro', 'Kevin Fiala', 'Christian Fischer', 'Trey Fix-Wolansky', 'Cale Fleury', 'Haydn Fleury', 'Marc-AndrÃ© Fleury', 'Warren Foegele', 'Tyson Foerster', 'Marcus Foligno', 'Nick Foligno', 'Callan Foote', 'Nolan Foote', 'Derek Forbort', 'Anton Forsberg', 'Filip Forsberg', 'Gustav Forsling', 'Jean-Luc Foudy', 'Liam Foudy', 'Cam Fowler', 'Adam Fox', 'Trent Frederic', 'Mark Friedman', 'Byron Froese', 'Morgan Frost', 'Jonah Gadjovich', 'Sam Gagner', 'Brendan Gallagher', 'Rhett Gardner', 'Conor Garland', 'Adam Gaudette', 'FrÃ©dÃ©rick Gaudreau', 'Johnny Gaudreau', 'Brendan Gaunce', 'Cutter Gauthier', 'Julien Gauthier', 'Vladislav Gavrikov', 'Glenn Gawdin', 'Morgan Geekie', 'Alexandar Georgiev', 'John Gibson', 'Brandon Gignac', 'Dennis Gilbert', 'Adam Ginning', 'Mark Giordano', 'Samuel Girard', 'Zemgus Girgensons', 'Claude Giroux', 'Cody Glass', 'Luke Glendening', 'Alex Goligoski', 'Gage Goncalves', 'Barclay Goodrow', 'Shayne Gostisbehere', 'Yanni Gourde', 'Collin Graf', 'Mikael Granlund', 'Ryan Graves', 'Jet Greaves', 'Jordan Greenway', 'A.J. Greer', 'Noah Gregor', 'Ridly Greig', 'Benoit-Olivier Groulx', 'Philipp Grubauer', 'Jonathan Gruden', 'Carl GrundstrÃ¶m', 'Matt Grzelcyk', 'Radko Gudas', 'Erik Gudbranson', 'Max Guenette', 'Dylan Guenther', 'Jake Guentzel', 'Kaiden Guhle', 'Denis Gurianov', 'Daniil Gushchin', 'David Gustafsson', 'Erik Gustafsson', 'Filip Gustavsson', 'Cole Guttman', 'Brandon Hagel', 'Robert HÃ¤gg', 'Nicolas Hague', 'Jani HakanpÃ¤Ã¤', 'Taylor Hall', 'Brian Halonen', 'Hardy Haman Aktell', 'James Hamblin', 'Dougie Hamilton', 'Travis Hamonic', 'Noah Hanifin', 'Joel Hanley', 'Jansen Harkins', 'Thomas Harley', 'Jordan Harris', 'Carter Hart', 'Ryan Hartman', 'RafaÃ«l Harvey-Pinard', 'Santeri Hatakka', 'Garnet Hathaway', 'Erik Haula', 'John Hayden', 'Kevin Hayes', 'Barrett Hayton', 'Victor Hedman', 'Emil Heineman', 'Danton Heinen', 'Miro Heiskanen', 'Magnus Hellberg', 'Connor Hellebuyck', 'Adam Henrique', 'TomÃ¡Å¡ Hertl', 'Matthew Highmore', 'Adin Hill', 'Vinnie Hinostroza', 'Roope Hintz', 'Akito Hirose', 'Nico Hischier', 'Joel Hofer', 'Mike Hoffman', 'Nils HÃ¶glander', 'Justin Holl', 'Dylan Holloway', 'Pontus Holmberg', 'Simon HolmstrÃ¶m', 'Alexander Holtz', 'Bo Horvat', 'Brett Howden', 'Filip Hronek', 'Jonathan Huberdeau', 'Jack Hughes', 'Luke Hughes', 'Quinn Hughes', 'Daemon Hunt', 'Dryden Hunt', 'Ville Husso', 'Michael Hutchinson', 'Lane Hutson', 'Ben Hutton', 'Grant Hutton', 'Zach Hyman', 'Alex Iafallo', 'Bokondji Imama', 'Connor Ingram', 'Vincent Iorio', 'Ruslan Iskhakov', 'Mark Jankowski', 'Mattias Janmark', 'Calle JÃ¤rnkrok', 'Tristan Jarry', 'Roby Jarventie', 'Seth Jarvis', 'Tanner Jeannot', 'Jan JenÃ\\xadk', 'Boone Jenner', 'Nick Jensen', 'David JiÅ\\x99Ã\\xadÄ\\x8dek', 'Lucas Johansen', 'Ryan Johansen', 'Jonas Johansson', 'Marcus Johansson', 'Erik Johnson', 'Jack Johnson', 'Kent Johnson', 'Reese Johnson', 'Ryan Johnson', 'Tyler Johnson', 'Ross Johnston', 'Wyatt Johnston', 'Marc Johnstone', 'Henri Jokiharju', 'Caleb Jones', 'Martin Jones', 'Max Jones', 'Seth Jones', 'Zachary Jones', 'Axel Jonsson-FjÃ¤llby', 'Mathieu Joseph', 'Pierre-Olivier Joseph', 'Dakota Joshua', 'Roman Josi', 'Tyson Jost', 'Noah Juulsen', 'Nazem Kadri', 'Kaapo KÃ¤hkÃ¶nen', 'Wyatt Kaiser', 'Kaapo Kakko', 'Arthur Kaliyev', 'David KÃ¤mpf', 'Evander Kane', 'Patrick Kane', 'Kasperi Kapanen', 'Kirill Kaprizov', 'Erik Karlsson', 'Linus Karlsson', 'William Karlsson', 'Tye Kartye', 'Mark Kastelic', 'Boris Katchouk', 'MiloÅ¡ Kelemen', 'Clayton Keller', 'Parker Kelly', 'Philip Kemp', 'Adrian Kempe', 'Alexander Kerfoot', 'Matthew Kessel', 'Michael Kesselring', 'Jujhar Khaira', 'Marat Khusnutdinov', 'Alex Killorn', 'Justin Kirkland', 'Joel Kiviranta', 'Adam Klapka', 'Tyler Kleven', 'John Klingberg', 'Matthew Knies', 'Nikolai Knyzhov', 'Patrik Koch', 'Pyotr Kochetkov', 'Cole Koepke', 'Keegan Kolesar', 'Vladislav Kolyachonok', 'Travis Konecny', 'AnÅ¾e Kopitar', 'Joona Koppanen', 'Kevin Korchinski', 'Kaedan Korczak', 'Joonas Korpisalo', 'Klim Kostin', 'Jesperi Kotkaniemi', 'Johnathan Kovacevic', 'Peyton Krebs', 'Chris Kreider', 'Torey Krug', 'Dominik KubalÃ\\xadk', 'Nikita Kucherov', 'Darcy Kuemper', 'Brett Kulak', 'Jiri Kulich', 'Dmitry Kulikov', 'Luke Kunin', 'Rasmus Kupari', 'Sean Kuraly', 'Philipp Kurashev', 'Andrei Kuzmenko', 'Evgeny Kuznetsov', 'Yan Kuznetsov', 'Oliver Kylington', 'Jordan Kyrou', 'Kevin Labanc', 'Samuel Laberge', 'Jackson LaCombe', 'Alex Laferriere', 'Sam Lafferty', 'Alexis LafreniÃ¨re', 'William Lagesson', 'Patrik Laine', 'Maxime Lajoie', 'Brad Lambert', 'Kevin Lankinen', 'Hendrix Lapierre', 'Dylan Larkin', 'Adam Larsson', 'Scott Laughton', 'Jakub Lauko', 'Jeremy Lauzon', 'Raphael Lavoie', 'Curtis Lazar', 'Brett Leason', 'Nick Leddy', 'Anders Lee', 'Artturi Lehkonen', 'Brendan Lemieux', 'John Leonard', 'Jake Leschyshyn', 'Kris Letang', 'Vinni Lettieri', 'Devon Levi', 'Trevor Lewis', 'Timothy Liljegren', 'Kole Lind', 'Oskar Lindblom', 'Esa Lindell', 'Charlie Lindgren', 'Ryan Lindgren', 'Elias Lindholm', 'Hampus Lindholm', 'Gustav LindstrÃ¶m', 'Blake Lizotte', 'William Lockwood', 'Mason Lohrei', 'Ryan Lomberg', 'Steven Lorentz', 'Adam Lowry', 'Jake Lucchini', 'Milan Lucic', 'John Ludvig', 'Anton Lundell', 'Isac LundestrÃ¶m', 'Nils Lundkvist', 'Tristan Luneau', 'Eetu Luostarinen', 'Ukko-Pekka Luukkonen', 'Olle Lycksell', 'Alex Lyon', 'Ilya Lyubushkin', 'Olli MÃ¤Ã¤ttÃ¤', 'Matias Maccelli', 'Kurtis MacDermid', 'Jacob MacDonald', 'Mackenzie MacEachern', 'Zack MacEwen', 'Connor Mackey', 'Nathan MacKinnon', 'Kyle MacLean', 'Josh Mahura', 'Logan Mailloux', 'Cale Makar', 'James Malatesta', 'Beck Malenstyn', 'Sam Malinski', 'Evgeni Malkin', 'Andrew Mangiapane', 'Josh Manson', 'Anthony Mantha', 'Brad Marchand', 'Kirill Marchenko', 'Jonathan Marchessault', 'Mason Marchment', 'John Marino', 'Jacob MarkstrÃ¶m', 'Mitch Marner', 'Pat Maroon', 'Matt Martin', 'Spencer Martin', 'Alec Martinez', 'Jordan Martinook', 'Emil Martinsen Lilleberg', 'Mike Matheson', 'Nikolas Matinpalo', 'Auston Matthews', 'Scott Mayfield', 'Charlie McAvoy', 'Jack McBain', 'Jake McCabe', 'Jared McCann', 'Michael McCarron', 'Max McCormick', 'Connor McDavid', 'Ryan McDonagh', 'Hugh McGing', 'Brock McGinn', 'Dylan McIlrath', 'Marc McLaughlin', 'Michael McLeod', 'Ryan McLeod', 'Bobby McMann', 'Connor McMichael', 'Brayden McNabb', 'Mason McTavish', 'Cole McWard', 'Jaycob Megna', 'Jayson Megna', 'Timo Meier', 'Dawson Mercer', 'Waltteri Merela', 'Georgii Merkulov', 'Dakota Mermis', 'Jonathon Merrill', 'Elvis MerzÄ¼ikins', 'Victor Mete', 'Carson Meyer', 'Ben Meyers', 'Jacob Middleton', 'Ilya Mikheyev', 'Niko Mikkola', 'Sonny Milano', 'Colin Miller', 'J.T. Miller', \"K'Andre Miller\", 'Fraser Minten', 'Pavel Mintyukov', 'Daniil Miromanov', 'Ivan Miroshnichenko', 'Ian Mitchell', 'Casey Mittelstadt', 'Sean Monahan', 'Sam Montembeault', 'Brandon Montour', 'Trevor Moore', 'Mason Morelli', 'Logan Morrison', 'Josh Morrissey', 'Scott Morrow', 'J.J. Moser', 'Tyler Motte', 'Jacob Moverare', 'Petr MrÃ¡zek', 'Shakir Mukhamadullin', 'Connor Murphy', 'Brett Murray', 'Matt Murray', 'Philippe Myers', 'Tyler Myers', 'Bradly Nadeau', 'Vladislav Namestnikov', 'Riley Nash', 'Frank Nazar', 'Martin NeÄ\\x8das', 'Alex Nedeljkovic', 'Jake Neighbours', 'Brock Nelson', 'Simon Nemec', 'Nikita Nesterenko', 'Alex Newhook', 'Valeri Nichushkin', 'Nino Niederreiter', 'Matthew Nieto', 'Stefan Noesen', 'Joshua Norris', 'TomÃ¡Å¡ Nosek', 'Thomas Novak', 'Ryan Nugent-Hopkins', 'Darnell Nurse', 'Alexander Nylander', 'William Nylander', 'Gustav Nyquist', \"Liam O'Brien\", \"Drew O'Connor\", \"Logan O'Connor\", \"Ryan O'Reilly\", 'Jordan Oesterle', 'Jake Oettinger', 'Liam Ohgren', 'Nikita Okhotyuk', 'Kyle Okposo', 'Oskar Olausson', 'Jamie Oleksiak', 'Mathieu Olivier', 'Fredrik Olofsson', 'Gustav Olofsson', 'Victor Olofsson', 'Dmitry Orlov', 'T.J. Oshie', 'Zack Ostapchuk', 'Brennan Othmann', 'Alex Ovechkin', 'Brayden Pachal', 'Max Pacioretty', 'Jean-Gabriel Pageau', 'OndÅ\\x99ej PalÃ¡t', 'Kyle Palmieri', 'Artemi Panarin', 'Colton Parayko', 'Zach Parise', 'Juuso PÃ¤rssinen', 'David PastrÅ\\x88Ã¡k', 'JiÅ\\x99Ã\\xad Patera', 'Nick Paul', 'Ondrej Pavel', 'Joe Pavelski', 'Tanner Pearson', 'Andrew Peeke', 'Adam Pelech', 'Jakob Pelletier', 'Nicklaus Perbix', 'Yaniv Perets', 'Cole Perfetti', 'David Perron', 'Corey Perry', 'Scott Perunovich', 'Brett Pesce', 'Nic Petan', 'John-Jason Peterka', 'Calvin Petersen', 'Jacob Peterson', 'Alexander Petrovic', 'Jeff Petry', 'Elias Pettersson', 'Marcus Pettersson', 'Michael Pezzetta', 'Isaak Phillips', 'Matthew Phillips', 'Calvin Pickard', 'Alex Pietrangelo', 'Shane Pinto', 'Neal Pionk', 'Rem Pitlick', 'Tyler Pitlick', 'Vasily Podkolzin', 'Ryan Poehling', 'Brayden Point', 'Matthew Poitras', 'Jason Polin', 'Vasiliy Ponomarev', 'Martin Pospisil', 'Andrew Poturalski', 'Samuel Poulin', 'Derrick Pouliot', 'Owen Power', 'Cayden Primeau', 'Ivan Prosvetov', 'Aliaksei Protas', 'Ivan Provorov', 'Jesse PuljujÃ¤rvi', 'Ryan Pulock', 'Valtteri Puustinen', 'Mikael Pyyhtia', 'Jonathan Quick', 'Jack Quinn', 'Antti Raanta', 'Darren Raddysh', 'Taylor Raddysh', 'Rickard Rakell', 'Mikko Rantanen', 'Adam RaÅ¡ka', 'Michael Rasmussen', 'Aku Raty', 'Lucas Raymond', 'Ryan Reaves', 'Pavol Regenda', 'Lukas Reichel', 'Mike Reilly', 'James Reimer', 'Sam Reinhart', 'Sheldon Rempal', 'Matt Rempe', 'Anthony Richard', 'Morgan Rielly', 'Marshall Rifai', 'Rasmus Ristolainen', 'David Rittich', 'Jason Robertson', 'Nicholas Robertson', 'Eric Robinson', 'Evan Rodrigues', 'Alexander Romanov', 'Georgi Romanov', 'Kevin Rooney', 'Filip Roos', 'Calle RosÃ©n', 'Isak Rosen', 'Jack Roslovic', 'Marco Rossi', 'LukÃ¡Å¡ Rousek', 'Joshua Roy', 'Matt Roy', 'Nicolas Roy', 'Chad Ruhwedel', 'Bryan Rust', 'Jan Rutta', 'Adam RuÅ¾iÄ\\x8dka', 'Derek Ryan', 'Jonas RÃ¸ndbjerg', 'Brandon Saad', 'Scott Sabourin', 'Dylan Samberg', 'Mackie Samoskevich', 'Ilya Samsonov', 'Mattias Samuelsson', 'Jake Sanderson', 'Rasmus Sandin', 'Felix SandstrÃ¶m', 'Zach Sanford', 'Travis Sanheim', 'Juuse Saros', 'David Savard', 'Matthew Savoie', 'Marco Scandella', 'Brandon Scanlin', 'Mark Scheifele', 'Brayden Schenn', 'Luke Schenn', 'Nick Schmaltz', 'Akira Schmid', 'Nate Schmidt', 'Braden Schneider', 'Justin Schultz', 'Jaden Schwartz', 'Cole Schwindt', 'Nick Seeler', 'Tyler Seguin', 'Moritz Seider', 'Brett Seney', 'Mikhail Sergachev', 'Damon Severson', 'Michael Sgarbossa', 'Yegor Sharangovich', 'Kevin Shattenkirk', 'Mason Shaw', 'Ryan Shea', 'Conor Sheary', 'Hunter Shepard', 'Kiefer Sherwood', 'Igor Shesterkin', 'Devin Shore', 'Jonas Siegenthaler', 'Jakob Silfverberg', 'Cole Sillinger', 'Arturs Silovs', 'Colton Sissons', 'Jeff Skinner', 'Stuart Skinner', 'Brady Skjei', 'Juraj Slafkovsky', 'Landon Slaggert', 'Jaccob Slavin', 'Jiri Smejkal', 'Brendan Smith', 'Cole Smith', 'Craig Smith', 'Givani Smith', 'Reilly Smith', 'Joe Snively', 'Arvid SÃ¶derblom', 'Victor SÃ¶derstrÃ¶m', 'Ilya Solovyov', 'Ilya Sorokin', 'Carson Soucy', 'Justin Sourdif', 'Jordan Spence', 'Daniel Sprong', 'Jared Spurgeon', 'John St. Ivany', 'Jordan Staal', 'Marc Staal', 'Steven Stamkos', 'Logan Stankoven', 'Logan Stanley', 'Spencer Stastney', 'Troy Stecher', 'Sam Steel', 'Oskar Steen', 'Alex Steeves', 'Kevin Stenlund', 'Mitchell Stephens', 'Chandler Stephenson', 'Anthony Stolarz', 'Mark Stone', 'Dylan Strome', 'Ryan Strome', 'Jayden Struble', 'MariÃ¡n StudeniÄ\\x8d', 'Jack Studnicka', 'Nico Sturm', 'Tim StÃ¼tzle', 'Malcolm Subban', 'Oskar Sundqvist', 'Pius Suter', 'Ryan Suter', 'Nick Suzuki', 'Andrei Svechnikov', 'Jeremy Swayman', 'Maksymilian Szuber', 'Mads SÃ¸gaard', 'Cam Talbot', 'Brandon Tanev', 'Chris Tanev', 'Vladimir Tarasenko', 'Daniil Tarasov', 'TomÃ¡Å¡ Tatar', 'John Tavares', 'Teuvo TerÃ¤vÃ¤inen', 'Troy Terry', 'Alexandre Texier', 'Shea Theodore', 'Akil Thomas', 'Robert Thomas', 'Jack Thompson', 'Logan Thompson', 'Tage Thompson', 'Henry Thrun', 'Chris Tierney', 'Conor Timmins', 'Jarred Tinordi', 'Owen Tippett', 'Brady Tkachuk', 'Matthew Tkachuk', 'Devon Toews', 'Tyler Toffoli', 'Eeli Tolvanen', 'Philip Tomasino', 'Matt Tomkins', 'Dominic Toninato', 'Alexey Toropchenko', 'Yakov Trenin', 'Vincent Trocheck', 'Jacob Trouba', 'Alex Tuch', 'Tyler Tucker', 'Riley Tufte', 'Alex Turcotte', 'Linus Ullmark', 'Urho Vaakanainen', 'Juuso VÃ¤limÃ¤ki', 'James van Riemsdyk', 'Trevor van Riemsdyk', 'VÃ\\xadtek VanÄ\\x9bÄ\\x8dek', 'Semyon Varlamov', 'Andrei Vasilevskiy', 'Frank Vatrano', 'Karel Vejmelka', 'Joe Veleno', 'Carter Verhaeghe', 'Jimmy Vesey', 'Gabriel Vilardi', 'Matt Villalta', 'Daniel VladaÅ\\x99', 'Alex Vlasic', 'Marc-Ã\\x89douard Vlasic', 'Dmitri Voronkov', 'Jakub VrÃ¡na', 'Chris Wagner', 'Oliver Wahlstrom', 'Nathan Walker', 'Samuel Walker', 'Sean Walker', 'Jesper Wallstedt', 'Jake Walman', 'Austin Watson', 'Scott Wedgewood', 'MacKenzie Weegar', 'Alexander Wennberg', 'Zach Werenski', 'Blake Wheeler', 'Colin White', 'Zach Whitecloud', 'Maxwell Willman', 'Tom Wilson', 'Ryan Winterton', 'Dustin Wolf', 'Joseph Woll', 'Miles Wood', 'Parker Wotherspoon', 'Shane Wright', 'Kailer Yamamoto', 'Jesse YlÃ¶nen', 'Cameron York']\n"
     ]
    }
   ],
   "source": [
    "names = []\n",
    "links = []\n",
    "for player in active_players:\n",
    "    name = player.text\n",
    "    link = player.a[\"href\"]\n",
    "    names.append(name)\n",
    "    links.append(url+link)\n",
    "\n",
    "print(names)"
   ]
  },
  {
   "cell_type": "code",
   "execution_count": 18,
   "metadata": {},
   "outputs": [
    {
     "data": {
      "text/html": [
       "<div>\n",
       "<style scoped>\n",
       "    .dataframe tbody tr th:only-of-type {\n",
       "        vertical-align: middle;\n",
       "    }\n",
       "\n",
       "    .dataframe tbody tr th {\n",
       "        vertical-align: top;\n",
       "    }\n",
       "\n",
       "    .dataframe thead th {\n",
       "        text-align: right;\n",
       "    }\n",
       "</style>\n",
       "<table border=\"1\" class=\"dataframe\">\n",
       "  <thead>\n",
       "    <tr style=\"text-align: right;\">\n",
       "      <th></th>\n",
       "      <th>name</th>\n",
       "      <th>link</th>\n",
       "    </tr>\n",
       "  </thead>\n",
       "  <tbody>\n",
       "    <tr>\n",
       "      <th>0</th>\n",
       "      <td>Noel Acciari</td>\n",
       "      <td>https://www.hockey-reference.com/players/a/acc...</td>\n",
       "    </tr>\n",
       "    <tr>\n",
       "      <th>1</th>\n",
       "      <td>Calen Addison</td>\n",
       "      <td>https://www.hockey-reference.com/players/a/add...</td>\n",
       "    </tr>\n",
       "    <tr>\n",
       "      <th>2</th>\n",
       "      <td>Egor  Afanasyev</td>\n",
       "      <td>https://www.hockey-reference.com/players/a/afa...</td>\n",
       "    </tr>\n",
       "    <tr>\n",
       "      <th>3</th>\n",
       "      <td>Sebastian Aho</td>\n",
       "      <td>https://www.hockey-reference.com/players/a/aho...</td>\n",
       "    </tr>\n",
       "    <tr>\n",
       "      <th>4</th>\n",
       "      <td>Sebastian Aho</td>\n",
       "      <td>https://www.hockey-reference.com/players/a/aho...</td>\n",
       "    </tr>\n",
       "    <tr>\n",
       "      <th>...</th>\n",
       "      <td>...</td>\n",
       "      <td>...</td>\n",
       "    </tr>\n",
       "    <tr>\n",
       "      <th>1002</th>\n",
       "      <td>Parker Wotherspoon</td>\n",
       "      <td>https://www.hockey-reference.com/players/w/wot...</td>\n",
       "    </tr>\n",
       "    <tr>\n",
       "      <th>1003</th>\n",
       "      <td>Shane Wright</td>\n",
       "      <td>https://www.hockey-reference.com/players/w/wri...</td>\n",
       "    </tr>\n",
       "    <tr>\n",
       "      <th>1004</th>\n",
       "      <td>Kailer Yamamoto</td>\n",
       "      <td>https://www.hockey-reference.com/players/y/yam...</td>\n",
       "    </tr>\n",
       "    <tr>\n",
       "      <th>1005</th>\n",
       "      <td>Jesse YlÃ¶nen</td>\n",
       "      <td>https://www.hockey-reference.com/players/y/ylo...</td>\n",
       "    </tr>\n",
       "    <tr>\n",
       "      <th>1006</th>\n",
       "      <td>Cameron York</td>\n",
       "      <td>https://www.hockey-reference.com/players/y/yor...</td>\n",
       "    </tr>\n",
       "  </tbody>\n",
       "</table>\n",
       "<p>1007 rows × 2 columns</p>\n",
       "</div>"
      ],
      "text/plain": [
       "                    name                                               link\n",
       "0           Noel Acciari  https://www.hockey-reference.com/players/a/acc...\n",
       "1          Calen Addison  https://www.hockey-reference.com/players/a/add...\n",
       "2        Egor  Afanasyev  https://www.hockey-reference.com/players/a/afa...\n",
       "3          Sebastian Aho  https://www.hockey-reference.com/players/a/aho...\n",
       "4          Sebastian Aho  https://www.hockey-reference.com/players/a/aho...\n",
       "...                  ...                                                ...\n",
       "1002  Parker Wotherspoon  https://www.hockey-reference.com/players/w/wot...\n",
       "1003        Shane Wright  https://www.hockey-reference.com/players/w/wri...\n",
       "1004     Kailer Yamamoto  https://www.hockey-reference.com/players/y/yam...\n",
       "1005       Jesse YlÃ¶nen  https://www.hockey-reference.com/players/y/ylo...\n",
       "1006        Cameron York  https://www.hockey-reference.com/players/y/yor...\n",
       "\n",
       "[1007 rows x 2 columns]"
      ]
     },
     "execution_count": 18,
     "metadata": {},
     "output_type": "execute_result"
    }
   ],
   "source": [
    "import pandas as pd\n",
    "\n",
    "dictionary = {\"name\" : names, \"link\" : links}\n",
    "df = pd.DataFrame(dictionary)\n",
    "\n",
    "df"
   ]
  },
  {
   "cell_type": "code",
   "execution_count": 19,
   "metadata": {},
   "outputs": [],
   "source": [
    "df.to_csv(\"active_players.csv\", sep=\"\\t\", encoding='utf-8', index=False)"
   ]
  },
  {
   "cell_type": "code",
   "execution_count": null,
   "metadata": {},
   "outputs": [],
   "source": []
  }
 ],
 "metadata": {
  "kernelspec": {
   "display_name": "base",
   "language": "python",
   "name": "python3"
  },
  "language_info": {
   "codemirror_mode": {
    "name": "ipython",
    "version": 3
   },
   "file_extension": ".py",
   "mimetype": "text/x-python",
   "name": "python",
   "nbconvert_exporter": "python",
   "pygments_lexer": "ipython3",
   "version": "3.11.5"
  }
 },
 "nbformat": 4,
 "nbformat_minor": 2
}
