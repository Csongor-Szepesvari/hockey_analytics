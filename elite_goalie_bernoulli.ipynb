{
 "cells": [
  {
   "cell_type": "code",
   "execution_count": 1,
   "metadata": {},
   "outputs": [],
   "source": [
    "import numpy as np\n",
    "import pandas as pd\n",
    "from matplotlib import pyplot as plt"
   ]
  },
  {
   "cell_type": "markdown",
   "metadata": {},
   "source": [
    "### Defining a Bernoulli trial\n",
    "In the next cell we give the code that defines a Bernoulli trial (conventionally thought of as a coin flip). We define a function bernoulli() that takes only one parameter: the odds of the 'first outcome.' We then execute our code and output the result of the trial.\n",
    "\n",
    "In the following cell, we define a Bernoulli process, run it, and plot its affiliated binomial distribution, highlighting the actual outcome and what the probability of it occuring was. We also return a 95% confidence interval based on the generated data.\n"
   ]
  },
  {
   "cell_type": "code",
   "execution_count": 10,
   "metadata": {},
   "outputs": [
    {
     "name": "stdout",
     "output_type": "stream",
     "text": [
      "Coin flip landed on tails.\n"
     ]
    }
   ],
   "source": [
    "# in this cell we define the Bernoulli trial function\n",
    "def bernoulli(p_a: float):\n",
    "    ''' The bernoulli function takes the probability of the first result as input\n",
    "    and returns True in proportion to this probabiility.\n",
    "    \n",
    "    Input:\n",
    "    p_a: float where 0<=p_a<=1'''\n",
    "    boundary = np.random.random()\n",
    "    if p_a < boundary:\n",
    "        return True\n",
    "    return False\n",
    "heads = bernoulli(0.5) # simulating a coin flip as default\n",
    "if heads:\n",
    "    print(\"Coin flip landed on heads!\")\n",
    "else:\n",
    "    print(\"Coin flip landed on tails.\")"
   ]
  },
  {
   "cell_type": "code",
   "execution_count": 25,
   "metadata": {},
   "outputs": [
    {
     "name": "stdout",
     "output_type": "stream",
     "text": [
      "0010010010111011010000101001000011111011001100100001000111010101001110010110011011111111010111100001\n",
      "100 total flips\n",
      "51 tails\n",
      "49 heads\n"
     ]
    }
   ],
   "source": [
    "# in this cell we define a Bernoulli process function that executes a Bernoulli trial n times!\n",
    "def bernoulli_process(p_a: float, n: int):\n",
    "    \"\"\" Bernoulli process function executes a Bernoulli trial that has alpha probability of p_a n times and returns the resulting sequence as string of 1s and 0s\n",
    "    \n",
    "    Input:\n",
    "    p_a: float where 0<=p_a<=1\n",
    "    n: integer greater than 0\"\"\"\n",
    "    assert(type(p_a)==float and 0<=p_a and p_a < 1)\n",
    "    assert(type(n)==int and 0<n)\n",
    "    output = \"\"\n",
    "    for i in range(n):\n",
    "        result = bernoulli(p_a)\n",
    "        if result:\n",
    "            output += \"0\"\n",
    "        else:\n",
    "            output += \"1\"\n",
    "    return output\n",
    "\n",
    "one_hundred_flips = bernoulli_process(0.5, 100)\n",
    "\n",
    "print(one_hundred_flips)\n",
    "print(len(one_hundred_flips), \"total flips\")\n",
    "print(one_hundred_flips.count(\"1\"), \"tails\")\n",
    "print(one_hundred_flips.count(\"0\"), \"heads\")"
   ]
  },
  {
   "cell_type": "code",
   "execution_count": null,
   "metadata": {},
   "outputs": [],
   "source": [
    "# in this cell we plot the binomial distribution for a particular Bernoulli process\n",
    "def plot_binomial(p_a: float, n: int, sample=False):\n",
    "    \"\"\" Plots the chart for a binomial distribution for a particular Bernoulli process\n",
    "    \n",
    "    Input:\n",
    "    p_a: float where 0<=p_a<=1\n",
    "    n: integer greater than 0\"\"\"\n",
    "    assert(type(p_a)==float and 0<=p_a and p_a < 1)\n",
    "    assert(type(n)==int and 0<n)\n",
    "\n",
    "    if sample:\n",
    "        my_sample = bernoulli_process(p_a, n)\n",
    "    \n",
    "    # in order to create a plot, we're going to count the number of \"successes\" or first results (0s)\n",
    "    "
   ]
  }
 ],
 "metadata": {
  "kernelspec": {
   "display_name": "base",
   "language": "python",
   "name": "python3"
  },
  "language_info": {
   "codemirror_mode": {
    "name": "ipython",
    "version": 3
   },
   "file_extension": ".py",
   "mimetype": "text/x-python",
   "name": "python",
   "nbconvert_exporter": "python",
   "pygments_lexer": "ipython3",
   "version": "3.11.5"
  }
 },
 "nbformat": 4,
 "nbformat_minor": 2
}
